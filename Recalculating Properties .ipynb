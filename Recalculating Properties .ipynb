{
 "cells": [
  {
   "cell_type": "code",
   "execution_count": 1,
   "metadata": {
    "ExecuteTime": {
     "end_time": "2020-06-05T05:55:16.488667Z",
     "start_time": "2020-06-05T05:55:14.879474Z"
    }
   },
   "outputs": [],
   "source": [
    "from astropy.table import Table\n",
    "import numpy as np\n",
    "import math\n",
    "import pandas as pd\n",
    "from astropy.coordinates import SkyCoord\n",
    "from astropy import units as u\n",
    "from astropy.coordinates import match_coordinates_sky\n",
    "from scipy import constants\n",
    "\n",
    "# Render our plots inline\n",
    "%matplotlib inline"
   ]
  },
  {
   "cell_type": "markdown",
   "metadata": {},
   "source": [
    "# Reading the need table"
   ]
  },
  {
   "cell_type": "code",
   "execution_count": 2,
   "metadata": {
    "ExecuteTime": {
     "end_time": "2020-06-05T05:55:16.608676Z",
     "start_time": "2020-06-05T05:55:16.490733Z"
    }
   },
   "outputs": [],
   "source": [
    "Dir = r'Tables/'\n",
    "\n",
    "Filename = r'For_WISE.csv'\n",
    "\n",
    "New_table = pd.read_csv(Dir+Filename)\n",
    "\n",
    "Filename = r'HIPASS_2018'\n",
    "\n",
    "HI_WISE = pd.read_csv(Dir+Filename)"
   ]
  },
  {
   "cell_type": "markdown",
   "metadata": {},
   "source": [
    "# Prints out column name if needed"
   ]
  },
  {
   "cell_type": "code",
   "execution_count": 3,
   "metadata": {
    "ExecuteTime": {
     "end_time": "2020-06-05T05:55:16.616624Z",
     "start_time": "2020-06-05T05:55:16.611646Z"
    }
   },
   "outputs": [
    {
     "name": "stdout",
     "output_type": "stream",
     "text": [
      "['Unnamed: 0', 'Name', 'RA', 'DEC', 'Redshift', 'Distance_Mpc', 'HIPASS', 'Stellar_mass', 'err_stellar_mass', 'SFR', 'errSFR'] \n",
      "\n",
      "['HIPASS', 'Matched_name', '2MASX_number', 'Matched_RA', 'Matched_DEC', 'NICK_T_Type', 'Ttype_2MRS', 'RC3_Type', 'RC3_T', 'match_flag', 'HIPASS_RA', 'HIPASS_Dec', 'RVmom', 'Speak', 'Sint', 'XSC_K', 'ALLSKY_w1gmag', 'ALLSKY_w1gerr', 'ALLSKY_w1gflg', 'ALLSKY_w2gmag', 'ALLSKY_w2gerr', 'ALLSKY_w2gflg', 'ALLSKY_w3gmag', 'ALLSKY_w3gerr', 'ALLSKY_w3gflg', 'ALLSKY_w4gmag', 'ALLSKY_w4gerr', 'ALLSKY_w4gflg', 'ALLWISE_w1gmag', 'ALLWISE_w1gerr', 'ALLWISE_w1gflg', 'ALLWISE_w2gmag', 'ALLWISE_w2gerr', 'ALLWISE_w2gflg', 'ALLWISE_w3gmag', 'ALLWISE_w3gerr', 'ALLWISE_w3gflg', 'ALLWISE_w4gmag', 'ALLWISE_w4gerr', 'ALLWISE_w4gflg', 'w1mpro', 'w1sigmpro', 'w2mpro', 'w2sigmpro', 'w3mpro', 'w3sigmpro', 'w4mpro', 'w4sigmpro', 'AGN_Name', 'v_low_HIPASS', 'v_high_HIPASS', 'W50max_HIPASS', 'HICAT', 'desig', 'ra_WISE', 'dec_WISE', 'colur', 'w1best', 'w1berr', 'w1f', 'w2best', 'w2berr', 'w2f', 'w3best', 'w3berr', 'w3f', 'w4best', 'w4berr', 'w4f', 'W1snr', 'W2snr', 'W3snr', 'W4snr', 'catID', 'ra', 'dec', 'specz', 'DL', 'score', 'Template', 'Morph', 'TTyp', 'u', 'g', 'rband', 'i', 'z', 'J', 'H', 'Ks', 'irac1', 'irac2', 'irac3', 'irac4', 'mips24', 'w1', 'w2', 'w3PaH', 'w4dust', 'W1-W2', 'W2-W3', 'Log_DL', 'LogL_w1', 'eLogL_w1', 'LogL_w2', 'eLogL_w2', 'LogL_w3', 'eLogL_w3', 'LogL_w4', 'eLogL_w4', 'LogLw1Su', 'eLogLw1Su', 'Log(M/L)', 'Log(smass)', 'esmass', 'Lmrho', 'SFR12', 'eSFR12', 'SFR22', 'eSFR22', 'Log(sSFR12)', 'Log(sSFR22)', 'SFR24', 'LogL_m24', 'SBeff_1', 'SBeff_2', 'SBeff_3', 'SBeff_4', 'Mw1', 'Diso', 'L_Morph', 'L_TType', 'NedName', 'DL_source_flag', 'Sint_err', 'M_HI', 'M_HI_err', 'LogMs', 'LogMs_err', 'L_Ha_3', 'L_Ha_3_err', 'SFR_3', 'SFR_3_err', 'SFE_3', 'SFE_3_err', 'sSFR_3', 'sSFR_3_err', 'HICAT_confused', 'Gal_long', 'Gal_lat', 'HI_sample'] \n",
      "\n"
     ]
    }
   ],
   "source": [
    "pd.set_option('display.max_columns', None)\n",
    "pd.set_option('display.max_rows', None)\n",
    "\n",
    "New_table_cols = New_table.columns.tolist()\n",
    "print(New_table_cols,'\\n')\n",
    "\n",
    "HI_WISE_cols = HI_WISE.columns.tolist()\n",
    "print(HI_WISE_cols,'\\n')"
   ]
  },
  {
   "cell_type": "markdown",
   "metadata": {},
   "source": [
    "# Matching the dataframes"
   ]
  },
  {
   "cell_type": "code",
   "execution_count": 4,
   "metadata": {
    "ExecuteTime": {
     "end_time": "2020-06-05T05:55:16.639365Z",
     "start_time": "2020-06-05T05:55:16.619709Z"
    }
   },
   "outputs": [],
   "source": [
    "merged_inner = pd.merge(left=New_table, right=HI_WISE, left_on=New_table.HIPASS, right_on=HI_WISE.HIPASS.str.slice_replace(0,6, ''))"
   ]
  },
  {
   "cell_type": "code",
   "execution_count": 5,
   "metadata": {
    "ExecuteTime": {
     "end_time": "2020-06-05T05:55:16.645855Z",
     "start_time": "2020-06-05T05:55:16.641573Z"
    }
   },
   "outputs": [
    {
     "name": "stdout",
     "output_type": "stream",
     "text": [
      "['key_0', 'Unnamed: 0', 'Name', 'RA', 'DEC', 'Redshift', 'Distance_Mpc', 'HIPASS_x', 'Stellar_mass', 'err_stellar_mass', 'SFR', 'errSFR', 'HIPASS_y', 'Matched_name', '2MASX_number', 'Matched_RA', 'Matched_DEC', 'NICK_T_Type', 'Ttype_2MRS', 'RC3_Type', 'RC3_T', 'match_flag', 'HIPASS_RA', 'HIPASS_Dec', 'RVmom', 'Speak', 'Sint', 'XSC_K', 'ALLSKY_w1gmag', 'ALLSKY_w1gerr', 'ALLSKY_w1gflg', 'ALLSKY_w2gmag', 'ALLSKY_w2gerr', 'ALLSKY_w2gflg', 'ALLSKY_w3gmag', 'ALLSKY_w3gerr', 'ALLSKY_w3gflg', 'ALLSKY_w4gmag', 'ALLSKY_w4gerr', 'ALLSKY_w4gflg', 'ALLWISE_w1gmag', 'ALLWISE_w1gerr', 'ALLWISE_w1gflg', 'ALLWISE_w2gmag', 'ALLWISE_w2gerr', 'ALLWISE_w2gflg', 'ALLWISE_w3gmag', 'ALLWISE_w3gerr', 'ALLWISE_w3gflg', 'ALLWISE_w4gmag', 'ALLWISE_w4gerr', 'ALLWISE_w4gflg', 'w1mpro', 'w1sigmpro', 'w2mpro', 'w2sigmpro', 'w3mpro', 'w3sigmpro', 'w4mpro', 'w4sigmpro', 'AGN_Name', 'v_low_HIPASS', 'v_high_HIPASS', 'W50max_HIPASS', 'HICAT', 'desig', 'ra_WISE', 'dec_WISE', 'colur', 'w1best', 'w1berr', 'w1f', 'w2best', 'w2berr', 'w2f', 'w3best', 'w3berr', 'w3f', 'w4best', 'w4berr', 'w4f', 'W1snr', 'W2snr', 'W3snr', 'W4snr', 'catID', 'ra', 'dec', 'specz', 'DL', 'score', 'Template', 'Morph', 'TTyp', 'u', 'g', 'rband', 'i', 'z', 'J', 'H', 'Ks', 'irac1', 'irac2', 'irac3', 'irac4', 'mips24', 'w1', 'w2', 'w3PaH', 'w4dust', 'W1-W2', 'W2-W3', 'Log_DL', 'LogL_w1', 'eLogL_w1', 'LogL_w2', 'eLogL_w2', 'LogL_w3', 'eLogL_w3', 'LogL_w4', 'eLogL_w4', 'LogLw1Su', 'eLogLw1Su', 'Log(M/L)', 'Log(smass)', 'esmass', 'Lmrho', 'SFR12', 'eSFR12', 'SFR22', 'eSFR22', 'Log(sSFR12)', 'Log(sSFR22)', 'SFR24', 'LogL_m24', 'SBeff_1', 'SBeff_2', 'SBeff_3', 'SBeff_4', 'Mw1', 'Diso', 'L_Morph', 'L_TType', 'NedName', 'DL_source_flag', 'Sint_err', 'M_HI', 'M_HI_err', 'LogMs', 'LogMs_err', 'L_Ha_3', 'L_Ha_3_err', 'SFR_3', 'SFR_3_err', 'SFE_3', 'SFE_3_err', 'sSFR_3', 'sSFR_3_err', 'HICAT_confused', 'Gal_long', 'Gal_lat', 'HI_sample'] \n",
      "\n"
     ]
    }
   ],
   "source": [
    "merged_inner.shape\n",
    "merged_cols = merged_inner.columns.tolist()\n",
    "print(merged_cols,'\\n')"
   ]
  },
  {
   "cell_type": "markdown",
   "metadata": {},
   "source": [
    "\n",
    "# Checking if the dataframes have been matched correctly"
   ]
  },
  {
   "cell_type": "code",
   "execution_count": 6,
   "metadata": {
    "ExecuteTime": {
     "end_time": "2020-06-05T05:55:16.663884Z",
     "start_time": "2020-06-05T05:55:16.648434Z"
    }
   },
   "outputs": [
    {
     "name": "stdout",
     "output_type": "stream",
     "text": [
      "HIPASS NAME  | Separation between the two tables (arcsec) \n",
      "\n",
      "J1110-49        3.1027313492010284\n",
      "J1310-46        4.524213664097266\n",
      "J0323-36        3.174771248179517\n",
      "J2257-43        3.089063562783206\n",
      "J0319-26        7.109149678732713\n",
      "J0338-26        7.350763872246815\n",
      "J0621-27b        3.863502039681616\n",
      "J0317-41        12.139903941607244\n",
      "J0335-24        0.46638925627689437\n",
      "J0243-29        0.255319493018636\n",
      "J1321-27        0.03764713733918033\n",
      "J0716-62        5.370475621375326\n",
      "J0330-33        3.1184965247853644\n",
      "J2144-75        3.8525333399920947\n",
      "J0412-57        3.1146101026417905\n",
      "J0409-56        0.09840497380673914\n",
      "J0052-31        0.0625222817728608\n",
      "J0319-19        0.017354321807035427\n",
      "J0333-36        1.3991036046538798\n",
      "J0507-37        0.042949224795631\n",
      "J2314-43        0.015012826244343457\n",
      "J0342-47        4.195887590457698\n",
      "J1716-62        0.03101986070540901\n",
      "J0224-24        0.2805154514269933\n"
     ]
    }
   ],
   "source": [
    "robert_coord = SkyCoord(ra = merged_inner.RA, dec = merged_inner.DEC, unit = \"deg\")\n",
    "HI_WISE_coord = SkyCoord(ra = merged_inner.Matched_RA, dec = merged_inner.Matched_DEC, unit = \"deg\")\n",
    "sep = robert_coord.separation(HI_WISE_coord)\n",
    "    \n",
    "print('HIPASS NAME  |', 'Separation between the two tables (arcsec)', '\\n')\n",
    "for idx, name in enumerate(merged_inner.HIPASS_x):\n",
    "    print(name, \"      \", sep.arcsecond[idx])"
   ]
  },
  {
   "cell_type": "markdown",
   "metadata": {},
   "source": [
    "# Calculating Stellar Mass"
   ]
  },
  {
   "cell_type": "markdown",
   "metadata": {},
   "source": [
    "## The following function calculates the stellar mass using WISE photometry using Cluver et al 2014 equation 1\n",
    "\n",
    "The inputs are:\n",
    "\n",
    "m_1,  m_2 = apparent magnitude of W1 and W2\n",
    "\n",
    "M_1  = Absolution magnitude of W1\n",
    "\n",
    "d_m_1, d_m_2, d_M_1 = the uncertainties in those values"
   ]
  },
  {
   "cell_type": "code",
   "execution_count": 7,
   "metadata": {
    "ExecuteTime": {
     "end_time": "2020-06-05T05:55:16.676402Z",
     "start_time": "2020-06-05T05:55:16.666692Z"
    },
    "code_folding": []
   },
   "outputs": [],
   "source": [
    "def stellarmass(m_1, m_2, M_1, d_m_1, d_m_2,d_M_1,**kwargs):\n",
    "    M_sol = 3.24    #solar magnitude\n",
    "    L_w1 = 10**(-0.4*(M_1 - M_sol))\n",
    "    color12 = m_1 - m_2\n",
    "    M_s, d_Ms = np.zeros(len(color12)), np.zeros(len(color12))\n",
    "    \n",
    "    for idx, color in enumerate(color12):\n",
    "        if color < -0.05:\n",
    "            log_Ms_Lw1 = -2.54*(-0.05) - 0.17\n",
    "        elif color > 0.3:\n",
    "            log_Ms_Lw1 = -2.54*(0.3) - 0.17\n",
    "        else :\n",
    "            log_Ms_Lw1 = -2.54*(color) - 0.17\n",
    "        M_s[idx] = L_w1[idx]*(10**log_Ms_Lw1)  #the stellar mass\n",
    "\n",
    "\n",
    "    d_L_w1 = np.sqrt(d_M_1**2 * (-0.921034 * 10.0**(-0.4 * (M_1-M_sol)))**2)\n",
    "    d_color12 = np.sqrt(d_m_1**2 + d_m_2**2)\n",
    "    d_Ms = np.sqrt( (10.0**(log_Ms_Lw1))**2 * d_L_w1**2 + (L_w1 * -3.95412 * 10.0**(-2.54*color12))**2 * d_color12**2 )\n",
    "    if kwargs.get(\"output\") == \"log\":\n",
    "        return np.log10(M_s),(d_Ms/M_s)*np.log10(M_s)\n",
    "    else:\n",
    "        return M_s, d_Ms\n"
   ]
  },
  {
   "cell_type": "markdown",
   "metadata": {},
   "source": [
    "## The following function calculates absolute magnitudes:\n",
    "The inputs are:\n",
    "\n",
    "mag = apparent magnitude \n",
    "\n",
    "d_mag = uncertainty in mag\n",
    "\n",
    "D_L = luminosity distance (Mpc)\n"
   ]
  },
  {
   "cell_type": "code",
   "execution_count": 8,
   "metadata": {
    "ExecuteTime": {
     "end_time": "2020-06-05T05:55:16.685642Z",
     "start_time": "2020-06-05T05:55:16.682205Z"
    }
   },
   "outputs": [],
   "source": [
    "def absmag(mag,d_mag,D_L):\n",
    "    d = D_L * 10**6    #converting Mpc to pc\n",
    "    abs_mag = mag - 5.0 * np.log10(d/10.0)\n",
    "\n",
    "    d_abs_mag = d_mag\n",
    "    return abs_mag,d_abs_mag"
   ]
  },
  {
   "cell_type": "markdown",
   "metadata": {},
   "source": [
    "## Testing\n",
    "\n",
    "I am using my distances, to recalculate stellar mass to compare them to the values I published in the Parkash et al. 2018"
   ]
  },
  {
   "cell_type": "code",
   "execution_count": 9,
   "metadata": {
    "ExecuteTime": {
     "end_time": "2020-06-05T05:55:16.708135Z",
     "start_time": "2020-06-05T05:55:16.689306Z"
    }
   },
   "outputs": [],
   "source": [
    "W1, W1_err = absmag(merged_inner.w1best, merged_inner.w1berr, merged_inner.DL)"
   ]
  },
  {
   "cell_type": "code",
   "execution_count": 10,
   "metadata": {
    "ExecuteTime": {
     "end_time": "2020-06-05T05:55:16.719736Z",
     "start_time": "2020-06-05T05:55:16.710328Z"
    }
   },
   "outputs": [],
   "source": [
    "M_s, d_Ms = stellarmass(merged_inner.w1best, merged_inner.w2best,\n",
    "                        W1,  merged_inner.w1berr,  merged_inner.w2berr, W1_err,\n",
    "                        output = 'log' )\n"
   ]
  },
  {
   "cell_type": "code",
   "execution_count": 11,
   "metadata": {
    "ExecuteTime": {
     "end_time": "2020-06-05T05:55:16.729546Z",
     "start_time": "2020-06-05T05:55:16.721916Z"
    }
   },
   "outputs": [],
   "source": [
    "M_s, d_Ms = stellarmass(merged_inner.w1best, merged_inner.w2best,\n",
    "                        W1,  merged_inner.w1berr,  merged_inner.w2berr, W1_err, \n",
    "                        output = 'log' )\n",
    "d_Ms = merged_inner.LogMs_err ## Use Tom's calculated uncertainties instead"
   ]
  },
  {
   "cell_type": "code",
   "execution_count": 12,
   "metadata": {
    "ExecuteTime": {
     "end_time": "2020-06-05T05:55:16.740673Z",
     "start_time": "2020-06-05T05:55:16.732311Z"
    }
   },
   "outputs": [
    {
     "name": "stdout",
     "output_type": "stream",
     "text": [
      "HIPASS NAME  | Difference between Reported mass- calculated mass \n",
      "\n",
      "J1110-49        -0.042926408095004476\n",
      "J1310-46        -0.012247878292773962\n",
      "J0323-36        -0.009974565448153783\n",
      "J2257-43        -0.0039001643846674483\n",
      "J0319-26        -0.001313092427960072\n",
      "J0338-26        -0.00538665919467185\n",
      "J0621-27b        -0.0018102758832618804\n",
      "J0317-41        -0.014821221753059888\n",
      "J0335-24        0.0005105526259434612\n",
      "J0243-29        0.002671177246865497\n",
      "J1321-27        -0.0034394416809480077\n",
      "J0716-62        0.06827656229017443\n",
      "J0330-33        0.0015032667351011497\n",
      "J2144-75        0.00016910135755665578\n",
      "J0412-57        -0.009795434390417412\n",
      "J0409-56        0.004799835615333592\n",
      "J0052-31        -0.008094610714799444\n",
      "J0319-19        -0.0070167332648995995\n",
      "J0333-36        0.22917224222809907\n",
      "J0507-37        -0.015392768794626477\n",
      "J2314-43        -0.00884197754667504\n",
      "J0342-47        -0.0071348248754734556\n",
      "J1716-62        -0.025909393431573946\n",
      "J0224-24        -0.004438531223458497\n"
     ]
    }
   ],
   "source": [
    "print('HIPASS NAME  |', 'Difference between Reported mass- calculated mass', '\\n')\n",
    "for idx, name in enumerate(merged_inner.HIPASS_x):\n",
    "    print(name, \"      \", merged_inner.LogMs[idx] - M_s[idx] )"
   ]
  },
  {
   "cell_type": "markdown",
   "metadata": {},
   "source": [
    "## Calculate Stellar masses using Robert's distances"
   ]
  },
  {
   "cell_type": "code",
   "execution_count": 13,
   "metadata": {
    "ExecuteTime": {
     "end_time": "2020-06-05T05:55:16.753345Z",
     "start_time": "2020-06-05T05:55:16.743154Z"
    }
   },
   "outputs": [],
   "source": [
    "W1, W1_err = absmag(merged_inner.w1best, merged_inner.w1berr, merged_inner.Distance_Mpc)\n",
    "\n",
    "M_s, d_Ms = stellarmass(merged_inner.w1best, merged_inner.w2best,\n",
    "                        W1,  merged_inner.w1berr,  merged_inner.w2berr, W1_err,\n",
    "                        output = 'log' )"
   ]
  },
  {
   "cell_type": "code",
   "execution_count": 14,
   "metadata": {
    "ExecuteTime": {
     "end_time": "2020-06-05T05:55:16.762349Z",
     "start_time": "2020-06-05T05:55:16.755786Z"
    }
   },
   "outputs": [
    {
     "name": "stdout",
     "output_type": "stream",
     "text": [
      "HIPASS NAME  | Difference between Reported mass- new mass \n",
      "\n",
      "J1110-49        0.04794079734857526\n",
      "J1310-46        -0.10746594022923794\n",
      "J0323-36        -0.06830345986045572\n",
      "J2257-43        -0.08251216872906753\n",
      "J0319-26        -0.06623254719662519\n",
      "J0338-26        0.36863384718058434\n",
      "J0621-27b        0.14233604021570834\n",
      "J0317-41        -0.12750249209525322\n",
      "J0335-24        0.3562874277778896\n",
      "J0243-29        0.20267930908615917\n",
      "J1321-27        -0.37736252272915216\n",
      "J0716-62        -0.13048198203590644\n",
      "J0330-33        -0.24709780806840165\n",
      "J2144-75        -0.01321783408450905\n",
      "J0412-57        0.14338143654827462\n",
      "J0409-56        0.598363113033157\n",
      "J0052-31        0.05376815794796386\n",
      "J0319-19        -0.09084503622272955\n",
      "J0333-36        0.009928285179711338\n",
      "J0507-37        -0.3312920749301238\n",
      "J2314-43        0.17517030599909056\n",
      "J0342-47        -0.058841441672928596\n",
      "J1716-62        -0.12355417390884682\n",
      "J0224-24        -0.05190535297238341\n"
     ]
    }
   ],
   "source": [
    "print('HIPASS NAME  |', 'Difference between Reported mass- new mass', '\\n')\n",
    "for idx, name in enumerate(merged_inner.HIPASS_x):\n",
    "    print(name, \"      \", merged_inner.LogMs[idx] - M_s[idx])"
   ]
  },
  {
   "cell_type": "markdown",
   "metadata": {},
   "source": [
    "# Calculating SFR"
   ]
  },
  {
   "cell_type": "markdown",
   "metadata": {},
   "source": [
    "## The following function calculates the W3 luminosity \n",
    "The inputs are:\n",
    "\n",
    "m_3 = W3 apparent magnitude \n",
    "\n",
    "D_L = luminosity distance\n",
    "\n",
    "d_m_3 = uncertainty in W3 mag\n",
    "\n",
    "d_D_L = uncertainty in luminosity distance (usually this is set to 0)\n",
    "\n",
    "Note: the output is in Linear space and not in log space"
   ]
  },
  {
   "cell_type": "code",
   "execution_count": 15,
   "metadata": {
    "ExecuteTime": {
     "end_time": "2020-06-05T05:55:16.772065Z",
     "start_time": "2020-06-05T05:55:16.764834Z"
    }
   },
   "outputs": [],
   "source": [
    "def L_nu(m_3,D_L,d_m_3,d_D_L):\n",
    "    D_L = D_L * 3.0856776e24     #converting from Mpc to cm (1Mpc = 3.0856776e24cm)\n",
    "    d_D_L = d_D_L * 3.0856776e24\n",
    "\n",
    "    F_vo = 31.674  #  Zero Magnitude Flux Density for W3 (http://wise2.ipac.caltech.edu/docs/release/d_ALLsky/expsup/sec4_4h.html#conv2flux)\n",
    "    F_v_jy = F_vo * (10**(-m_3/2.5))   # flux density in Jy\n",
    "    F_v = F_v_jy * (10**-23)     #converting from Jy to erg/s*cm^2*Hz (1 Jy =10^-23  erg/s*cm^2*Hz )\n",
    "    L = F_v * 4.0 * np.pi * (D_L**2)   #luminosity density in erg/s*Hz\n",
    "    wavelength = 11.8178 * 10**-6   # converting from um to m\n",
    "    frequency = constants.c/wavelength\n",
    "    vL3 = frequency * L  \n",
    "    \n",
    "    d_F_v_jy = np.sqrt( ( F_vo * -0.921934 * 10**(-m_3/2.5) )**2 * d_m_3**2 )\n",
    "    d_F_v = d_F_v_jy * (10**-23)\n",
    "    d_L = np.sqrt( ( 4.0 * np.pi * (D_L**2) )**2 * d_F_v**2 + (8.0*F_v*np.pi*D_L)**2 * d_D_L**2 )\n",
    "    d_vL3 = frequency * d_L\n",
    "    \n",
    "    return vL3, d_vL3\n"
   ]
  },
  {
   "cell_type": "markdown",
   "metadata": {},
   "source": [
    "## The following function calculates the H$\\alpha$ luminosity \n",
    "Use calibration from Brown et al. 2018 (Not sure if that is the right year)\n",
    "The inputs are:\n",
    "\n",
    "vL3 = W3 Luminosity\n",
    "\n",
    "d_vL3 = uncertainty in W3 Luminosity \n",
    "\n",
    "**kwargs = sets if the output will be logged or linear "
   ]
  },
  {
   "cell_type": "code",
   "execution_count": 16,
   "metadata": {
    "ExecuteTime": {
     "end_time": "2020-06-05T05:55:16.780782Z",
     "start_time": "2020-06-05T05:55:16.774577Z"
    }
   },
   "outputs": [],
   "source": [
    "def L_Halpha_3(vL3, d_vL3, **kwargs):\n",
    "    a, a_err, b, b_err = 40.79, 0.06, 1.27, 0.04\n",
    "\n",
    "    L_Ha = 10**( ( (np.log10(vL3)-a) / b ) + 40.0)\n",
    "    d_L_Ha = ( (L_Ha*np.log(10)) / b) * np.sqrt( (1.0/(vL3*np.log(10.0)))**2 * d_vL3**2 + a_err**2 + ( (np.log10(vL3)-a) / -b)**2 * b_err**2 )\n",
    "\n",
    "    if kwargs.get(\"output\") == \"log\":\n",
    "        return np.log10(L_Ha), d_L_Ha/ (L_Ha*np.log(10.)), np.log10(vL3)\n",
    "    else:\n",
    "        return L_Ha, d_L_Ha"
   ]
  },
  {
   "cell_type": "markdown",
   "metadata": {},
   "source": [
    "## The following function calculates SFR using multiple IMF \n",
    "\n",
    "The inputs are:\n",
    "\n",
    "L_Ha= H$\\alpha$ Luminosity\n",
    "\n",
    "d_L_Ha= uncertainty in H$\\alpha$ Luminosity \n",
    "\n",
    "**kwargs = sets if the output will be logged or linear "
   ]
  },
  {
   "cell_type": "code",
   "execution_count": 17,
   "metadata": {
    "ExecuteTime": {
     "end_time": "2020-06-05T05:55:16.788697Z",
     "start_time": "2020-06-05T05:55:16.783121Z"
    }
   },
   "outputs": [],
   "source": [
    "def SFR_chabrier(L_Ha,d_L_Ha, **kwargs):\n",
    "    #The inputs need to be 'normal' numbers and not loged\n",
    "    SFR = 4.6e-42 * L_Ha\n",
    "    d_SFR = 4.6e-42 * d_L_Ha\n",
    "    if kwargs.get(\"output\") == \"log\":\n",
    "        return np.log10(SFR), d_SFR / (SFR*np.log(10.))\n",
    "    else:\n",
    "        return SFR, d_SFR\n",
    "    \n",
    "def SFR_salpeter(L_Ha,d_L_Ha):\n",
    "    #The inputs need to be 'normal' numbers and not loged\n",
    "    SFR = 7.9e-42 * L_Ha\n",
    "    d_SFR = 7.9e-42 * d_L_Ha\n",
    "    log10SFR = np.log10(SFR)\n",
    "    d_log10SFR = d_SFR / (SFR*np.log(10.))\n",
    "    return log10SFR, d_log10SFR"
   ]
  },
  {
   "cell_type": "markdown",
   "metadata": {
    "ExecuteTime": {
     "end_time": "2020-06-05T05:05:31.828435Z",
     "start_time": "2020-06-05T05:05:31.823186Z"
    }
   },
   "source": [
    "## The following function calculates SFR using Cluver et al (2017) IMF\n",
    "\n",
    "This is the SFR from Cluver 2017 which use kroupa IMF.\n",
    "\n",
    "To convert from Salpeter (1955) IMF and Chabrier (2003) IMF to \n",
    "    Kroupa (2001) IMF, the multiplicative factor is 0.70 and 1.20 \n",
    "    respectively.\n",
    "\n",
    "The inputs are:\n",
    "\n",
    "vL3 = W3 Luminosity\n",
    "\n",
    "d_vL3 = uncertainty in W3 Luminosity \n",
    "\n",
    "**kwargs = sets if the output will be logged or linear "
   ]
  },
  {
   "cell_type": "code",
   "execution_count": 18,
   "metadata": {
    "ExecuteTime": {
     "end_time": "2020-06-05T05:55:16.795240Z",
     "start_time": "2020-06-05T05:55:16.790694Z"
    }
   },
   "outputs": [],
   "source": [
    "def SFR_Cluver(vL3, d_vL3):\n",
    "    L_dot = vL3 / 3.827e33 # logL3 needs to be normalised for solar lum\n",
    "    d_L_dot = d_vL3 / 3.827e33\n",
    "    \n",
    "    logL3 = np.log10(L_dot) \n",
    "    d_logL3 = d_L_dot / (logL3*np.log(10.))\n",
    "    \n",
    "    log10SFR = 0.889 * logL3 - 7.76\n",
    "    d_log10SFR = np.sqrt( (logL3*0.018)**2 + \n",
    "                         (0.889*d_logL3)**2 + \n",
    "                         (0.15)**2 )\n",
    "    return log10SFR, d_log10SFR"
   ]
  },
  {
   "cell_type": "markdown",
   "metadata": {},
   "source": [
    "## Testing\n",
    "\n",
    "I am using my distances, to recalculate stellar mass to compare them to the values I published in the Parkash et al. 2018\n",
    "\n",
    "In Parkash 2018, I used the W3 PaH luminosity to calculate SFR. Those lumonsity are distance depended so I need to calculate W3 luminosity using w3 mag and distance. For future publication, I need to calculate W3 PAH luminosity but for now this is fine. I show the difference below."
   ]
  },
  {
   "cell_type": "code",
   "execution_count": 19,
   "metadata": {
    "ExecuteTime": {
     "end_time": "2020-06-05T05:55:16.819017Z",
     "start_time": "2020-06-05T05:55:16.797590Z"
    }
   },
   "outputs": [
    {
     "name": "stdout",
     "output_type": "stream",
     "text": [
      "HIPASS NAME  | Difference between Ha lum pah-mag | Difference between SFR  \n",
      "\n",
      "J1110-49        -0.05433534251177008        -0.05433534251177008\n",
      "J1310-46        -0.0677065788879716        -0.0677065788879716\n",
      "J0323-36        -0.08221578137251839        -0.08221578137251843\n",
      "J2257-43        -0.0741414498264632        -0.07414144982646317\n",
      "J0319-26        -0.22435635379756036        -0.22435635379756047\n",
      "J0338-26        -0.10375286306268805        -0.10375286306268805\n",
      "J0621-27b        -0.14819665573087804        -0.14819665573087804\n",
      "J0317-41        -0.2735596052346452        -0.2735596052346452\n",
      "J0335-24        -0.20433773564488433        -0.2043377356448843\n",
      "J0243-29        -0.24180181074652296        -0.2418018107465229\n",
      "J1321-27        -0.13995190439046468        -0.13995190439046473\n",
      "J0716-62        -0.050742452444708874        -0.050742452444708874\n",
      "J0330-33        -0.17525685839358118        -0.17525685839358124\n",
      "J2144-75        -0.12323651617117548        -0.12323651617117538\n",
      "J0412-57        -0.3267204025869006        -0.3267204025869006\n",
      "J0409-56        -0.6227241269918196        -0.6227241269918196\n",
      "J0052-31        -0.0685937697714607        -0.0685937697714607\n",
      "J0319-19        -0.05139859067703867        -0.0513985906770387\n",
      "J0333-36        -0.04380097217861589        -0.04380097217861589\n",
      "J0507-37        -0.045285232826444144        -0.0452852328264442\n",
      "J2314-43        -0.1057649247571888        -0.10576492475718882\n",
      "J0342-47        -0.08060968643339805        -0.08060968643339815\n",
      "J1716-62        -0.06449517348544731        -0.06449517348544731\n",
      "J0224-24        -0.04872284103811353        -0.048722841038113585\n"
     ]
    }
   ],
   "source": [
    "vL3, d_vL3 = L_nu(merged_inner.w3best, merged_inner.DL, merged_inner.w3berr, 0.0)\n",
    "\n",
    "L_Ha, d_L_Ha = L_Halpha_3(vL3, d_vL3)\n",
    "\n",
    "SFR_3_VP_dist, SFR_3_err = SFR_chabrier(L_Ha ,d_L_Ha, output = 'log')\n",
    "\n",
    "\n",
    "print('HIPASS NAME  |', 'Difference between Ha lum pah-mag |', \n",
    "      'Difference between SFR ', '\\n')\n",
    "for idx, name in enumerate(merged_inner.HIPASS_x):\n",
    "    print(name, \"      \", \n",
    "          np.log10(merged_inner.L_Ha_3[idx]) - np.log10(L_Ha[idx]),  \"      \",\n",
    "          merged_inner.SFR_3[idx]-SFR_3_VP_dist[idx]  )\n",
    "    \n",
    "    "
   ]
  },
  {
   "cell_type": "markdown",
   "metadata": {
    "ExecuteTime": {
     "end_time": "2020-06-05T05:47:24.984405Z",
     "start_time": "2020-06-05T05:47:24.982033Z"
    }
   },
   "source": [
    "## Calculate SFRs using Robert's distances"
   ]
  },
  {
   "cell_type": "code",
   "execution_count": 20,
   "metadata": {
    "ExecuteTime": {
     "end_time": "2020-06-05T05:55:16.837179Z",
     "start_time": "2020-06-05T05:55:16.821355Z"
    },
    "code_folding": []
   },
   "outputs": [
    {
     "name": "stdout",
     "output_type": "stream",
     "text": [
      "HIPASS NAME  | Difference between SFR  \n",
      "\n",
      "J1110-49        0.07154898066423954\n",
      "J1310-46        -0.0749748519184763\n",
      "J0323-36        -0.04592826331677456\n",
      "J2257-43        -0.061899216019213554\n",
      "J0319-26        -0.051117680920214015\n",
      "J0338-26        0.2945043357285471\n",
      "J0621-27b        0.11350103629840183\n",
      "J0317-41        -0.08872540971826481\n",
      "J0335-24        0.28013927177318715\n",
      "J0243-29        0.15748671798370134\n",
      "J1321-27        -0.29442762287259683\n",
      "J0716-62        -0.1565027908079344\n",
      "J0330-33        -0.19574887779803157\n",
      "J2144-75        -0.010540894048872956\n",
      "J0412-57        0.12061170940054924\n",
      "J0409-56        0.46737265938411804\n",
      "J0052-31        0.048710841466750365\n",
      "J0319-19        -0.06600653776207821\n",
      "J0333-36        -0.17263303704597632\n",
      "J0507-37        -0.24873961113030418\n",
      "J2314-43        0.14489156184706076\n",
      "J0342-47        -0.04071387149405571\n",
      "J1716-62        -0.07688565391911345\n",
      "J0224-24        -0.037375450195995086\n"
     ]
    }
   ],
   "source": [
    "vL3, d_vL3 = L_nu(merged_inner.w3best, merged_inner.Distance_Mpc, merged_inner.w3berr, 0.0)\n",
    "\n",
    "L_Ha, d_L_Ha = L_Halpha_3(vL3, d_vL3)\n",
    "\n",
    "SFR_3, SFR_3_err = SFR_chabrier(L_Ha ,d_L_Ha, output = 'log')\n",
    "\n",
    "print('HIPASS NAME  |', 'Difference between SFR ', '\\n')\n",
    "for idx, name in enumerate(merged_inner.HIPASS_x):\n",
    "    print(name, \"      \", SFR_3_VP_dist[idx]- SFR_3[idx] )\n"
   ]
  },
  {
   "cell_type": "markdown",
   "metadata": {},
   "source": [
    "#  Saving the new SFR and stellar mass"
   ]
  },
  {
   "cell_type": "code",
   "execution_count": 21,
   "metadata": {
    "ExecuteTime": {
     "end_time": "2020-06-05T05:55:16.935944Z",
     "start_time": "2020-06-05T05:55:16.839750Z"
    }
   },
   "outputs": [
    {
     "name": "stdout",
     "output_type": "stream",
     "text": [
      "nan nan nan nan\n",
      "11.041465940229239 1.4185606174718313 0.43698135872778443 0.07344695052992167\n",
      "10.725303459860456 1.3780389061665455 0.13244397261063032 0.06641225469158256\n",
      "nan nan nan nan\n",
      "11.051512168729069 1.4197452764444736 0.19317523943630707 0.06903453602610127\n",
      "10.858232547196625 1.3949485036035494 -0.19447800586482372 0.059796124266374436\n",
      "11.215366152819417 1.440701443872358 0.3230760143106008 0.07072831426554109\n",
      "11.137663959784291 1.4306088420682537 0.15576720089711651 0.0681507623597381\n",
      "nan nan nan nan\n",
      "11.248502492095252 1.4447636944932962 -0.04680088389740456 0.06512866897981193\n",
      "10.783712572222111 1.385224889225783 -0.27079294678964083 0.05900830441831721\n",
      "nan nan nan nan\n",
      "10.492320690913841 1.3479080973204627 -0.4556369478197768 0.05818150117344726\n",
      "11.252362522729152 1.4453723676439447 0.2419078016410976 0.06963691177324119\n",
      "nan nan nan nan\n",
      "nan nan nan nan\n",
      "10.605481982035906 1.3715753865455458 0.9106790294416951 0.0852000690221616\n",
      "11.174097808068401 1.4354374453968632 0.20892771135704152 0.06838116489323184\n",
      "10.99221783408451 1.4121966175816203 0.10768363735398599 0.06614812955876971\n",
      "10.905618563451727 1.6497844041832168 -0.30423704818364455 0.061808096656581005\n",
      "10.292636886966841 1.3221500166459947 -0.8214509666756842 0.050906139251911266\n",
      "10.628231842052037 1.3658916803439836 0.2885923050449432 0.06995683242627648\n",
      "10.778845036222728 1.38519216796733 0.356980646911637 0.07160687641379677\n",
      "10.704071714820289 1.3947901219987209 1.0930961418703402 0.0900185248872234\n",
      "10.428292074930125 1.3454285685110128 0.7474586301458002 0.08111167595359291\n",
      "10.50382969400091 1.34941050076833 -0.07616529184570478 0.06249094151143159\n",
      "10.748841441672928 1.3809207286960863 0.10365498191178774 0.06572905456943841\n",
      "10.417554173908847 1.3431417240454084 0.42575949548338327 0.07308053777743549\n",
      "10.192905352972383 1.3646265343503898 0.48905963647828066 0.074628622176899\n"
     ]
    },
    {
     "name": "stderr",
     "output_type": "stream",
     "text": [
      "/Users/vaishaliparkash/anaconda3/lib/python3.7/site-packages/ipykernel_launcher.py:4: SettingWithCopyWarning: \n",
      "A value is trying to be set on a copy of a slice from a DataFrame\n",
      "\n",
      "See the caveats in the documentation: http://pandas.pydata.org/pandas-docs/stable/user_guide/indexing.html#returning-a-view-versus-a-copy\n",
      "  after removing the cwd from sys.path.\n",
      "/Users/vaishaliparkash/anaconda3/lib/python3.7/site-packages/ipykernel_launcher.py:5: SettingWithCopyWarning: \n",
      "A value is trying to be set on a copy of a slice from a DataFrame\n",
      "\n",
      "See the caveats in the documentation: http://pandas.pydata.org/pandas-docs/stable/user_guide/indexing.html#returning-a-view-versus-a-copy\n",
      "  \"\"\"\n",
      "/Users/vaishaliparkash/anaconda3/lib/python3.7/site-packages/ipykernel_launcher.py:6: SettingWithCopyWarning: \n",
      "A value is trying to be set on a copy of a slice from a DataFrame\n",
      "\n",
      "See the caveats in the documentation: http://pandas.pydata.org/pandas-docs/stable/user_guide/indexing.html#returning-a-view-versus-a-copy\n",
      "  \n",
      "/Users/vaishaliparkash/anaconda3/lib/python3.7/site-packages/ipykernel_launcher.py:7: SettingWithCopyWarning: \n",
      "A value is trying to be set on a copy of a slice from a DataFrame\n",
      "\n",
      "See the caveats in the documentation: http://pandas.pydata.org/pandas-docs/stable/user_guide/indexing.html#returning-a-view-versus-a-copy\n",
      "  import sys\n",
      "/Users/vaishaliparkash/anaconda3/lib/python3.7/site-packages/ipykernel_launcher.py:3: DeprecationWarning: The truth value of an empty array is ambiguous. Returning False, but in future this will result in an error. Use `array.size > 0` to check that an array is not empty.\n",
      "  This is separate from the ipykernel package so we can avoid doing imports until\n"
     ]
    }
   ],
   "source": [
    "for idx, name in enumerate(New_table.HIPASS):\n",
    "    index = np.where(merged_inner.HIPASS_x == name)\n",
    "    if index[0]:\n",
    "        New_table.Stellar_mass[idx] = M_s[index[0]]\n",
    "        New_table.err_stellar_mass[idx] = d_Ms[index[0]]\n",
    "        New_table.SFR[idx] = SFR_3[index[0]]\n",
    "        New_table.errSFR[idx] = SFR_3_err[index[0]]\n",
    "        \n",
    "    print(New_table.Stellar_mass[idx], New_table.err_stellar_mass[idx], \n",
    "          New_table.SFR[idx], New_table.errSFR[idx])"
   ]
  },
  {
   "cell_type": "code",
   "execution_count": 22,
   "metadata": {
    "ExecuteTime": {
     "end_time": "2020-06-05T05:55:16.949606Z",
     "start_time": "2020-06-05T05:55:16.939493Z"
    }
   },
   "outputs": [],
   "source": [
    "Dir = r'Tables/'\n",
    "\n",
    "Filename = r'For_WISE.csv' \n",
    "\n",
    "New_table.to_csv(Dir+Filename)"
   ]
  }
 ],
 "metadata": {
  "kernelspec": {
   "display_name": "Python 3",
   "language": "python",
   "name": "python3"
  },
  "language_info": {
   "codemirror_mode": {
    "name": "ipython",
    "version": 3
   },
   "file_extension": ".py",
   "mimetype": "text/x-python",
   "name": "python",
   "nbconvert_exporter": "python",
   "pygments_lexer": "ipython3",
   "version": "3.7.4"
  },
  "latex_envs": {
   "LaTeX_envs_menu_present": true,
   "autoclose": false,
   "autocomplete": true,
   "bibliofile": "biblio.bib",
   "cite_by": "apalike",
   "current_citInitial": 1,
   "eqLabelWithNumbers": true,
   "eqNumInitial": 1,
   "hotkeys": {
    "equation": "Ctrl-E",
    "itemize": "Ctrl-I"
   },
   "labels_anchors": false,
   "latex_user_defs": false,
   "report_style_numbering": false,
   "user_envs_cfg": false
  },
  "toc": {
   "base_numbering": 1,
   "nav_menu": {},
   "number_sections": true,
   "sideBar": true,
   "skip_h1_title": false,
   "title_cell": "Table of Contents",
   "title_sidebar": "Contents",
   "toc_cell": false,
   "toc_position": {},
   "toc_section_display": true,
   "toc_window_display": false
  },
  "varInspector": {
   "cols": {
    "lenName": 16,
    "lenType": 16,
    "lenVar": 40
   },
   "kernels_config": {
    "python": {
     "delete_cmd_postfix": "",
     "delete_cmd_prefix": "del ",
     "library": "var_list.py",
     "varRefreshCmd": "print(var_dic_list())"
    },
    "r": {
     "delete_cmd_postfix": ") ",
     "delete_cmd_prefix": "rm(",
     "library": "var_list.r",
     "varRefreshCmd": "cat(var_dic_list()) "
    }
   },
   "types_to_exclude": [
    "module",
    "function",
    "builtin_function_or_method",
    "instance",
    "_Feature"
   ],
   "window_display": false
  }
 },
 "nbformat": 4,
 "nbformat_minor": 4
}
